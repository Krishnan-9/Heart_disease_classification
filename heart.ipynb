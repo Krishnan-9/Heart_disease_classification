{
 "cells": [
  {
   "cell_type": "markdown",
   "metadata": {},
   "source": [
    "# Using logistic regression to identify heart disease in patients\n",
    "In this project we will be using the Heart Disease Data Set from UCI (https://archive.ics.uci.edu/ml/datasets/Heart+Disease) to try and classify new patients into either of the following two categories:\n",
    "* 0 - Absence of heart disease\n",
    "* 1 - Presence of heart disease\n",
    "\n",
    "We wil be using the logistic regression model with the lbfgs solver algorithm for classification.\n",
    "\n",
    "Only 14 attributes are used as per UCI: \n",
    "1. (age): age in years \n",
    "2. (sex): sex (1 = male; 0 = female)  \n",
    "3. (cp): chest pain type \n",
    "    *  Value 1: typical angina \n",
    "    *  Value 2: atypical angina \n",
    "    *  Value 3: non-anginal pain \n",
    "    *  Value 4: asymptomatic \n",
    "4. (trestbps): resting blood pressure (in mm Hg on admission to the hospital)  \n",
    "5. (chol): serum cholestoral in mg/dl  \n",
    "6. (fbs): (fasting blood sugar > 120 mg/dl) (1 = true; 0 = false)\n",
    "7. (restecg): resting electrocardiographic results \n",
    "    *  Value 0: normal \n",
    "    *  Value 1: having ST-T wave abnormality (T wave inversions and/or ST elevation or depression of > 0.05 mV) \n",
    "    *  Value 2: showing probable or definite left ventricular hypertrophy by Estes' criteria\n",
    "8. (thalach): maximum heart rate achieved  \n",
    "9. (exang): exercise induced angina (1 = yes; 0 = no) \n",
    "10. (oldpeak): ST depression induced by exercise relative to rest  \n",
    "11. (slope): the slope of the peak exercise ST segment \n",
    "    *  Value 1: upsloping \n",
    "    *  Value 2: flat \n",
    "    *  Value 3: downsloping  \n",
    "12. (ca): number of major vessels (0-3) colored by flourosopy \n",
    "13. (thal): 3 = normal; 6 = fixed defect; 7 = reversable defect\n",
    "14. (target)(the predicted attribute): diagnosis of heart disease (angiographic disease status) \n",
    "    *  Value 0: < 50% diameter narrowing \n",
    "    *  Value 1: > 50% diameter narrowing \n",
    "    \n",
    "We will also be conducting a brief data analysis before applying our model. We will be specifically looking at the relationship between age and presence of heart disease and the relationship between gender and presence of heart disease."
   ]
  },
  {
   "cell_type": "code",
   "execution_count": 1,
   "metadata": {},
   "outputs": [],
   "source": [
    "# Getting started\n",
    "\n",
    "import pandas as pd\n",
    "import matplotlib.pyplot as plt\n",
    "from sklearn.linear_model import LogisticRegression\n",
    "data = pd.read_csv(\"/Users/krishnan/downloads/heart.csv\")"
   ]
  },
  {
   "cell_type": "code",
   "execution_count": 2,
   "metadata": {},
   "outputs": [
    {
     "name": "stdout",
     "output_type": "stream",
     "text": [
      "<class 'pandas.core.frame.DataFrame'>\n",
      "RangeIndex: 303 entries, 0 to 302\n",
      "Data columns (total 14 columns):\n",
      " #   Column    Non-Null Count  Dtype  \n",
      "---  ------    --------------  -----  \n",
      " 0   age       303 non-null    int64  \n",
      " 1   sex       303 non-null    int64  \n",
      " 2   cp        303 non-null    int64  \n",
      " 3   trestbps  303 non-null    int64  \n",
      " 4   chol      303 non-null    int64  \n",
      " 5   fbs       303 non-null    int64  \n",
      " 6   restecg   303 non-null    int64  \n",
      " 7   thalach   303 non-null    int64  \n",
      " 8   exang     303 non-null    int64  \n",
      " 9   oldpeak   303 non-null    float64\n",
      " 10  slope     303 non-null    int64  \n",
      " 11  ca        303 non-null    int64  \n",
      " 12  thal      303 non-null    int64  \n",
      " 13  target    303 non-null    int64  \n",
      "dtypes: float64(1), int64(13)\n",
      "memory usage: 33.3 KB\n",
      "None\n",
      "age         0\n",
      "sex         0\n",
      "cp          0\n",
      "trestbps    0\n",
      "chol        0\n",
      "fbs         0\n",
      "restecg     0\n",
      "thalach     0\n",
      "exang       0\n",
      "oldpeak     0\n",
      "slope       0\n",
      "ca          0\n",
      "thal        0\n",
      "target      0\n",
      "dtype: int64\n"
     ]
    }
   ],
   "source": [
    "# exploring the data\n",
    "print(data.info())\n",
    "\n",
    "# data cleaning\n",
    "print(data.isnull().sum()) # no missing values so we can proceed to some data anaylsis\n",
    "\n"
   ]
  },
  {
   "cell_type": "code",
   "execution_count": 3,
   "metadata": {},
   "outputs": [
    {
     "name": "stdout",
     "output_type": "stream",
     "text": [
      "<class 'pandas.core.frame.DataFrame'>\n",
      "Int64Index: 165 entries, 0 to 164\n",
      "Data columns (total 14 columns):\n",
      " #   Column    Non-Null Count  Dtype  \n",
      "---  ------    --------------  -----  \n",
      " 0   age       165 non-null    int64  \n",
      " 1   sex       165 non-null    int64  \n",
      " 2   cp        165 non-null    int64  \n",
      " 3   trestbps  165 non-null    int64  \n",
      " 4   chol      165 non-null    int64  \n",
      " 5   fbs       165 non-null    int64  \n",
      " 6   restecg   165 non-null    int64  \n",
      " 7   thalach   165 non-null    int64  \n",
      " 8   exang     165 non-null    int64  \n",
      " 9   oldpeak   165 non-null    float64\n",
      " 10  slope     165 non-null    int64  \n",
      " 11  ca        165 non-null    int64  \n",
      " 12  thal      165 non-null    int64  \n",
      " 13  target    165 non-null    int64  \n",
      "dtypes: float64(1), int64(13)\n",
      "memory usage: 19.3 KB\n",
      "None\n",
      "1    56.363636\n",
      "0    43.636364\n",
      "Name: sex, dtype: float64\n"
     ]
    },
    {
     "data": {
      "image/png": "[encoded data removed]",
      "text/plain": [
       "<Figure size 432x288 with 2 Axes>"
      ]
     },
     "metadata": {
      "needs_background": "light"
     },
     "output_type": "display_data"
    }
   ],
   "source": [
    "# We will be looking at the patients already diagnosed with a heart disease\n",
    "\n",
    "diagnosed = data[data['target'] == 1]\n",
    "print(diagnosed.info())\n",
    "\n",
    "# inspect age and gender distributions\n",
    "fig = plt.figure()\n",
    "ax1 = fig.add_subplot(2, 1, 1)\n",
    "ax2 = fig.add_subplot(2, 1, 2)\n",
    "\n",
    "n, bins, patches = ax1.hist(diagnosed['age'], bins=40)\n",
    "ax1.set_xlabel('Age')\n",
    "ax1.set_ylabel('Age vs Number of people')\n",
    "\n",
    "n, bins, patches = ax2.hist(diagnosed['sex'])\n",
    "ax2.set_xlabel('Gender')\n",
    "ax2.set_ylabel('Frequency')\n",
    "\n",
    "# proprtion of males and females among the total number of diagnosed patients\n",
    "print(pd.value_counts(diagnosed['sex'],normalize = True) * 100)"
   ]
  },
  {
   "cell_type": "markdown",
   "metadata": {},
   "source": [
    "We can see that among the diagnosed patients, there is a peak in the numbeer of patients in their early 40s. We can also see that a heart disease is quite frequent among the 50-60 age group. There is again a small peak for patients in their early 60s.\n",
    "\n",
    "From the gender frequency graph, we can see that the number of males diagnosed with a heart condition is is slighty more than the number of females. Roughly 56% of the diagnosed patients are men and 44% are women. However to get a better picture, we can calculate the proportion of males and females diagnosed with a heart disease. "
   ]
  },
  {
   "cell_type": "code",
   "execution_count": 4,
   "metadata": {},
   "outputs": [
    {
     "name": "stdout",
     "output_type": "stream",
     "text": [
      "1    93\n",
      "0    72\n",
      "Name: sex, dtype: int64\n",
      "1    207\n",
      "0     96\n",
      "Name: sex, dtype: int64\n"
     ]
    }
   ],
   "source": [
    "print(pd.value_counts(diagnosed['sex']))\n",
    "print(pd.value_counts(data['sex']))"
   ]
  },
  {
   "cell_type": "markdown",
   "metadata": {},
   "source": [
    "Therefore the proportion of males diagnosed with a heart consition from the total number of males:\n",
    "=> (93/207)x100\n",
    "=>  44.9%\n",
    "\n",
    "The proportion of females diagnosed with a heart consition from the total number of females:\n",
    "=> (72/96)x100\n",
    "=>  75%\n",
    "\n",
    "However, we cannot draw any conclusions about which gender group is likely to get a heart disease from the given data. This is becasue the total number of male patients in the data set is much more than that of female patients.\n",
    "\n",
    "**We will now proceed to fitting the logistic regression model**"
   ]
  },
  {
   "cell_type": "markdown",
   "metadata": {},
   "source": [
    "## Logistic Regression"
   ]
  },
  {
   "cell_type": "code",
   "execution_count": 5,
   "metadata": {},
   "outputs": [
    {
     "name": "stdout",
     "output_type": "stream",
     "text": [
      "<class 'pandas.core.frame.DataFrame'>\n",
      "RangeIndex: 303 entries, 0 to 302\n",
      "Data columns (total 30 columns):\n",
      " #   Column     Non-Null Count  Dtype  \n",
      "---  ------     --------------  -----  \n",
      " 0   age        303 non-null    int64  \n",
      " 1   trestbps   303 non-null    int64  \n",
      " 2   chol       303 non-null    int64  \n",
      " 3   fbs        303 non-null    int64  \n",
      " 4   thalach    303 non-null    int64  \n",
      " 5   oldpeak    303 non-null    float64\n",
      " 6   target     303 non-null    int64  \n",
      " 7   sex_0      303 non-null    uint8  \n",
      " 8   sex_1      303 non-null    uint8  \n",
      " 9   cp_0       303 non-null    uint8  \n",
      " 10  cp_1       303 non-null    uint8  \n",
      " 11  cp_2       303 non-null    uint8  \n",
      " 12  cp_3       303 non-null    uint8  \n",
      " 13  restecg_0  303 non-null    uint8  \n",
      " 14  restecg_1  303 non-null    uint8  \n",
      " 15  restecg_2  303 non-null    uint8  \n",
      " 16  exang_0    303 non-null    uint8  \n",
      " 17  exang_1    303 non-null    uint8  \n",
      " 18  slope_0    303 non-null    uint8  \n",
      " 19  slope_1    303 non-null    uint8  \n",
      " 20  slope_2    303 non-null    uint8  \n",
      " 21  ca_0       303 non-null    uint8  \n",
      " 22  ca_1       303 non-null    uint8  \n",
      " 23  ca_2       303 non-null    uint8  \n",
      " 24  ca_3       303 non-null    uint8  \n",
      " 25  ca_4       303 non-null    uint8  \n",
      " 26  thal_0     303 non-null    uint8  \n",
      " 27  thal_1     303 non-null    uint8  \n",
      " 28  thal_2     303 non-null    uint8  \n",
      " 29  thal_3     303 non-null    uint8  \n",
      "dtypes: float64(1), int64(6), uint8(23)\n",
      "memory usage: 23.5 KB\n",
      "None\n"
     ]
    }
   ],
   "source": [
    "# we will begin by identify categorical variables and changing their dtype\n",
    "# sex, chestpain type(cp), restecg, exercise induced anigma (exang), slope, ca, thal are the categorical variables\n",
    "catvariables = ['sex', 'cp', 'restecg', 'exang', 'slope', 'ca', 'thal']\n",
    "for col in catvariables:\n",
    "    data[col] = data[col].astype('category')\n",
    "\n",
    "# we will now create dummies for the categorical variables\n",
    "datacopy = data.copy()\n",
    "for i in catvariables:\n",
    "    dummy_df = pd.get_dummies(data[i], prefix = i)\n",
    "    datacopy = datacopy.drop([i], axis = 1)\n",
    "    datacopy = pd.concat([datacopy,dummy_df], axis = 1)\n",
    "print(datacopy.info())\n"
   ]
  },
  {
   "cell_type": "markdown",
   "metadata": {},
   "source": [
    "### Train test (75/25 split)"
   ]
  },
  {
   "cell_type": "code",
   "execution_count": 6,
   "metadata": {},
   "outputs": [
    {
     "name": "stdout",
     "output_type": "stream",
     "text": [
      "Sensitivity is 95.74\n",
      "Specificity is 89.66\n"
     ]
    }
   ],
   "source": [
    "# train test\n",
    "final_data = datacopy.sample(frac = 1,random_state = 1).reset_index(drop = True)\n",
    "train = final_data.iloc[0:227]\n",
    "test = final_data.iloc[227:]\n",
    "\n",
    "# we will include all the features for minimal bias error\n",
    "features = list(final_data.columns)\n",
    "features.remove('target')\n",
    "\n",
    "# model fitting and testing\n",
    "lr = LogisticRegression(solver = 'lbfgs', max_iter = 10000)\n",
    "lr.fit(train[features],train['target'])\n",
    "labels = lr.predict(test[features])\n",
    "labels = pd.DataFrame(labels, columns = ['label'])\n",
    "test = test.reset_index()\n",
    "\n",
    "predicted_test_table = pd.concat([test, labels], axis = 1)\n",
    "\n",
    "# sensitivity (how good is the model in predicting the presence of a heart disease, TruePositive)\n",
    "actual_correct = len(predicted_test_table[predicted_test_table[\"target\"] == 1])\n",
    "label_correct = len(predicted_test_table[(predicted_test_table[\"target\"]==1) & (predicted_test_table['label']==1)])\n",
    "txt = \"Sensitivity is {num:.2f}\"\n",
    "print(txt.format(num = (label_correct/actual_correct)*100))\n",
    "\n",
    "# specificity (how good is the model in predicting the absence of a heart disease, FalseNegative)\n",
    "actual_wrong = len(predicted_test_table[predicted_test_table[\"target\"]==0])\n",
    "label_wrong = len(predicted_test_table[(predicted_test_table[\"target\"]==0) & (predicted_test_table['label']==0)])\n",
    "txt1 = \"Specificity is {num1:.2f}\"\n",
    "print(txt1.format(num1 = (label_wrong/actual_wrong)*100))"
   ]
  },
  {
   "cell_type": "markdown",
   "metadata": {},
   "source": [
    "This means that our model is good at correctly classifying a heart patient.\n",
    "The fairly high specifity also means that the model can correctly identify a patient that doesn't have a heart diseases."
   ]
  },
  {
   "cell_type": "markdown",
   "metadata": {},
   "source": [
    "The model can be improved further by increasing the number of patient records and by including some more important attributes. We can also get data that equallly represents male and female population to correctly identify any underlying trends between gender group and presence of a heart condition."
   ]
  }
 ],
 "metadata": {
  "kernelspec": {
   "display_name": "Python 3",
   "language": "python",
   "name": "python3"
  },
  "language_info": {
   "codemirror_mode": {
    "name": "ipython",
    "version": 3
   },
   "file_extension": ".py",
   "mimetype": "text/x-python",
   "name": "python",
   "nbconvert_exporter": "python",
   "pygments_lexer": "ipython3",
   "version": "3.8.3"
  }
 },
 "nbformat": 4,
 "nbformat_minor": 4
}
